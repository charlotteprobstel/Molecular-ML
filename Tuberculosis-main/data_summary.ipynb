{
 "cells": [
  {
   "cell_type": "code",
   "execution_count": 1,
   "metadata": {},
   "outputs": [],
   "source": [
    "import pandas as pd"
   ]
  },
  {
   "cell_type": "code",
   "execution_count": 17,
   "metadata": {},
   "outputs": [],
   "source": [
    "# 15,618 compounds\n",
    "Mtb_published_regression_AC_Cleaned = pd.read_csv('/rds/general/user/qg622/home/Y2/Antibacterial/data/Mtb_published_regression_AC_Cleaned.csv')\n",
    "# 1,193 compounds\n",
    "RCB_Mtb_inhibition_20072019 = pd.read_csv('/rds/general/user/qg622/home/Y2/Antibacterial/data/RCB_Mtb_inhibition_2007-2019.csv')\n",
    "\n",
    "# 258 compounds\n",
    "Mtb_testset_2017 = pd.read_csv('/rds/general/user/qg622/home/Y2/Antibacterial/data/2017_Mtb_testset.csv')\n",
    "# 1,196 compounds\n",
    "Mtb_predictions_Vadim_100nM = pd.read_csv('/rds/general/user/qg622/home/Y2/Antibacterial/data/Mtb_predictions_Vadim_100nM.csv')\n",
    "\n",
    "combined_data = pd.concat([Mtb_published_regression_AC_Cleaned, RCB_Mtb_inhibition_20072019, Mtb_testset_2017, Mtb_predictions_Vadim_100nM], ignore_index=True)\n",
    "\n",
    "chembl = pd.read_csv('/rds/general/user/qg622/home/Y2/Antibacterial/data/data_from_pubchem_chembl/chembl.csv')\n",
    "pubchem = pd.read_csv('/rds/general/user/qg622/home/Y2/Antibacterial/data/data_from_pubchem_chembl/pubchem.tsv', sep='\\t')\n",
    "# Drop rows where 'SMILES' is na\n",
    "pubchem = pubchem.dropna(subset=['SMILES'])\n",
    "chembl = chembl.dropna(subset=['SMILES'])"
   ]
  },
  {
   "cell_type": "code",
   "execution_count": 18,
   "metadata": {},
   "outputs": [
    {
     "name": "stdout",
     "output_type": "stream",
     "text": [
      "Molecules in ChEMBL not in Ekins:\n",
      "139\n",
      "\n",
      "Molecules in PubChem not in Ekins:\n",
      "148\n"
     ]
    }
   ],
   "source": [
    "# Filter PubChem data for rows where 'Standard Type' contains 'MIC'\n",
    "pubchem_filtered = pubchem[pubchem['acname'].str.contains('MIC', case=False, na=False)]\n",
    "\n",
    "# Filter ChEMBL data for rows where 'acname' contains 'MIC'\n",
    "chembl_filtered = chembl[chembl['Standard Type'].str.contains('MIC', case=False, na=False)]\n",
    "\n",
    "\n",
    "# Identify molecules in ChEMBL not in Ekins\n",
    "molecules_in_chembl_not_in_ekins = chembl_filtered[~chembl_filtered['SMILES'].isin(combined_data['SMILES'])]\n",
    "\n",
    "# Identify molecules in PubChem not in Ekins\n",
    "molecules_in_pubchem_not_in_ekins = pubchem_filtered[~pubchem_filtered['SMILES'].isin(combined_data['SMILES'])]\n",
    "\n",
    "# Print the outputs\n",
    "print(\"Molecules in ChEMBL not in Ekins:\")\n",
    "print(len(molecules_in_chembl_not_in_ekins))\n",
    "print(\"\\nMolecules in PubChem not in Ekins:\")\n",
    "print(len(molecules_in_pubchem_not_in_ekins))\n"
   ]
  },
  {
   "cell_type": "code",
   "execution_count": 19,
   "metadata": {},
   "outputs": [],
   "source": [
    "molecules_in_chembl_not_in_ekins.to_csv('./data/data_from_pubchem_chembl/molecules_in_chembl_not_in_ekins.csv', index=False)\n",
    "molecules_in_pubchem_not_in_ekins.to_csv('./data/data_from_pubchem_chembl/molecules_in_pubchem_not_in_ekins.csv', index=False)"
   ]
  },
  {
   "cell_type": "code",
   "execution_count": 20,
   "metadata": {},
   "outputs": [
    {
     "data": {
      "text/plain": [
       "113"
      ]
     },
     "execution_count": 20,
     "metadata": {},
     "output_type": "execute_result"
    }
   ],
   "source": [
    "len(molecules_in_chembl_not_in_ekins.SMILES.unique())"
   ]
  },
  {
   "cell_type": "code",
   "execution_count": 21,
   "metadata": {},
   "outputs": [
    {
     "data": {
      "text/plain": [
       "143"
      ]
     },
     "execution_count": 21,
     "metadata": {},
     "output_type": "execute_result"
    }
   ],
   "source": [
    "len(molecules_in_pubchem_not_in_ekins.SMILES.unique())"
   ]
  },
  {
   "cell_type": "code",
   "execution_count": 29,
   "metadata": {},
   "outputs": [
    {
     "data": {
      "text/plain": [
       "256"
      ]
     },
     "execution_count": 29,
     "metadata": {},
     "output_type": "execute_result"
    }
   ],
   "source": [
    "len(set(list(molecules_in_chembl_not_in_ekins.SMILES.unique())+list(molecules_in_pubchem_not_in_ekins.SMILES.unique())))"
   ]
  },
  {
   "cell_type": "code",
   "execution_count": null,
   "metadata": {},
   "outputs": [],
   "source": []
  },
  {
   "cell_type": "code",
   "execution_count": null,
   "metadata": {},
   "outputs": [],
   "source": []
  },
  {
   "cell_type": "markdown",
   "metadata": {},
   "source": [
    "# Results calculation"
   ]
  },
  {
   "cell_type": "code",
   "execution_count": 1,
   "metadata": {},
   "outputs": [],
   "source": [
    "import numpy as np\n",
    "import pandas as pd\n",
    "from scipy.stats import pearsonr, spearmanr, gaussian_kde\n",
    "from sklearn.metrics import (accuracy_score, auc, confusion_matrix,\n",
    "                             matthews_corrcoef, mean_absolute_error,\n",
    "                             mean_squared_error, r2_score, roc_curve)\n",
    "\n",
    "\n",
    "\n",
    "\n",
    "def calculate_resutls(y_test, y_pred):\n",
    "    y_pred = np.array(y_pred).reshape(-1)\n",
    "    y_test = np.array(y_test).reshape(-1)\n",
    "    pearson_rp = pearsonr(y_test, y_pred)[0]\n",
    "    spearman_rs = spearmanr(y_test, y_pred)[0]\n",
    "    rmse = np.sqrt(mean_squared_error(y_test, y_pred))\n",
    "    r2 = r2_score(y_test, y_pred)\n",
    "    mae = mean_absolute_error(y_test, y_pred)\n",
    "\n",
    "    obs = [0 if i < 6 else 1 for i in y_test]\n",
    "    pred = [0 if i < 6 else 1 for i in y_pred] \n",
    "    mcc = matthews_corrcoef(obs, pred)\n",
    "    accuracy = accuracy_score(obs, pred)\n",
    "    cm = pd.DataFrame(confusion_matrix(obs, pred))\n",
    "    try:\n",
    "        hit_rate = (cm.iloc[1, 1] / (cm.iloc[1, 1] + cm.iloc[0, 1]) * 100)\n",
    "    except:\n",
    "        hit_rate = 0\n",
    "    if hit_rate is np.nan:\n",
    "        hit_rate = 0\n",
    "    fpr, tpr, thresholds = roc_curve(obs, y_pred)\n",
    "    roc_auc = auc(fpr, tpr)\n",
    "    \n",
    "    test_results = {\n",
    "        'y_test': y_test,\n",
    "        'y_pred': y_pred,\n",
    "        'pearson_rp': np.float64(pearson_rp),\n",
    "        'spearman_rs': np.float64(spearman_rs),\n",
    "        'rmse': np.float64(rmse),\n",
    "        'r2': np.float64(r2),\n",
    "        'accuracy': np.float64(accuracy),\n",
    "        'mcc': np.float64(mcc),\n",
    "        'hit_rate': np.float64(hit_rate),\n",
    "        'mae': np.float64(mae),\n",
    "        'cm': cm,\n",
    "        'roc_auc': np.float64(roc_auc),\n",
    "        'tp': float(cm.iloc[1, 1]),\n",
    "        'fp': float(cm.iloc[0, 1]),\n",
    "        'tn': float(cm.iloc[0, 0]),\n",
    "        'fn': float(cm.iloc[1, 0])\n",
    "    }\n",
    "    print(f'RMSE: {test_results[\"rmse\"]:.3f}|MAE: {test_results[\"mae\"]:.3f}|$R_p$: {test_results[\"pearson_rp\"]:.3f}|$R_s$: {test_results[\"spearman_rs\"]:.3f}|MCC: {test_results[\"mcc\"]:.3f}|ROC AUC: {test_results[\"roc_auc\"]:.3f}|Hit rate (%): {test_results[\"hit_rate\"]:.1f}')\n",
    "\n",
    "    return test_results"
   ]
  },
  {
   "cell_type": "code",
   "execution_count": 4,
   "metadata": {},
   "outputs": [],
   "source": [
    "root = '/rds/general/user/qg622/home/'\n",
    "\n",
    "df = pd.read_csv(f'{root}Y2/Antibacterial/results/Mtb_20leftout_ypred.csv')\n",
    "df_rcb = pd.read_csv(f'{root}Y2/Antibacterial/results/rcb_ypred.csv')\n",
    "df_2017 = pd.read_csv(f'{root}Y2/Antibacterial/results/2017_ypred.csv')\n",
    "                 \n"
   ]
  },
  {
   "cell_type": "code",
   "execution_count": 5,
   "metadata": {},
   "outputs": [
    {
     "name": "stdout",
     "output_type": "stream",
     "text": [
      "RMSE: 0.615|MAE: 0.466|$R_p$: 0.675|$R_s$: 0.627|MCC: 0.518|ROC AUC: 0.709|Hit rate (%): 71.5\n"
     ]
    },
    {
     "data": {
      "text/plain": [
       "{'y_test': array([4.9742 , 5.39794, 6.69627, ..., 4.79588, 4.87128, 5.00877]),\n",
       " 'y_pred': array([5.1838684, 4.9218383, 6.4496317, ..., 5.2007904, 4.4993353,\n",
       "        5.057248 ]),\n",
       " 'pearson_rp': 0.6749657408682188,\n",
       " 'spearman_rs': 0.6274087699235991,\n",
       " 'rmse': 0.6153878313023959,\n",
       " 'r2': 0.43621697168454077,\n",
       " 'accuracy': 0.9106914212548015,\n",
       " 'mcc': 0.5176408190498287,\n",
       " 'hit_rate': 71.48936170212767,\n",
       " 'mae': 0.4657545190460948,\n",
       " 'cm':       0    1\n",
       " 0  2677   67\n",
       " 1   212  168,\n",
       " 'roc_auc': 0.7088441767684517,\n",
       " 'tp': 168.0,\n",
       " 'fp': 67.0,\n",
       " 'tn': 2677.0,\n",
       " 'fn': 212.0}"
      ]
     },
     "execution_count": 5,
     "metadata": {},
     "output_type": "execute_result"
    }
   ],
   "source": [
    "calculate_resutls(df['activity'], df['pred'])"
   ]
  }
 ],
 "metadata": {
  "kernelspec": {
   "display_name": "Python [conda env:NCI60]",
   "language": "python",
   "name": "conda-env-NCI60-py"
  },
  "language_info": {
   "codemirror_mode": {
    "name": "ipython",
    "version": 3
   },
   "file_extension": ".py",
   "mimetype": "text/x-python",
   "name": "python",
   "nbconvert_exporter": "python",
   "pygments_lexer": "ipython3",
   "version": "3.7.3"
  }
 },
 "nbformat": 4,
 "nbformat_minor": 2
}
