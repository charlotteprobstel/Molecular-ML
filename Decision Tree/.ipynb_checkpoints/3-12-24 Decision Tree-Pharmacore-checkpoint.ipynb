{
 "cells": [
  {
   "cell_type": "markdown",
   "id": "e201e04f-498c-4f88-a9c1-0b6a77644827",
   "metadata": {},
   "source": [
    "# Decision Tree Model\n",
    "\n",
    "This Notebook will do two things: \n",
    "\n",
    "1. Import a CSV file and convert SMILES into fingerprints\n",
    "2. Apply those fingerprints as input to train a Decision Tree Model\n",
    "\n",
    "Most of the code was sourced from ChatGPT to kick-start the project. Modifications were applied. "
   ]
  },
  {
   "cell_type": "code",
   "execution_count": 1,
   "id": "14e0f5d5-d0f5-46a8-81b0-523d0ee21cda",
   "metadata": {},
   "outputs": [],
   "source": [
    "# Imports \n",
    "import pandas as pd\n",
    "import numpy as np\n",
    "from rdkit import Chem\n",
    "from rdkit.Chem import AllChem\n",
    "from sklearn.model_selection import train_test_split\n",
    "from sklearn.tree import DecisionTreeRegressor\n",
    "from sklearn.metrics import mean_squared_error, r2_score"
   ]
  },
  {
   "cell_type": "markdown",
   "id": "ca0277c3-2b50-40ab-9ebd-ae83931f899e",
   "metadata": {},
   "source": [
    "After importing all the necessary libraries, we upload the CSV file with all the data. This file holds 15,619 molecules in the form of SMILES (text). Two additional columns of data provide, the International Chemical Identifier (InChi) and the acitivity (float) of the molecule. "
   ]
  },
  {
   "cell_type": "markdown",
   "id": "ac907ce3-c495-4538-b9a0-2e170d6c2c99",
   "metadata": {},
   "source": [
    "## Data and Fingerprints"
   ]
  },
  {
   "cell_type": "code",
   "execution_count": 2,
   "id": "6c4342a5-1c6a-4f04-8e84-249b6263cc74",
   "metadata": {},
   "outputs": [
    {
     "data": {
      "text/html": [
       "<div>\n",
       "<style scoped>\n",
       "    .dataframe tbody tr th:only-of-type {\n",
       "        vertical-align: middle;\n",
       "    }\n",
       "\n",
       "    .dataframe tbody tr th {\n",
       "        vertical-align: top;\n",
       "    }\n",
       "\n",
       "    .dataframe thead th {\n",
       "        text-align: right;\n",
       "    }\n",
       "</style>\n",
       "<table border=\"1\" class=\"dataframe\">\n",
       "  <thead>\n",
       "    <tr style=\"text-align: right;\">\n",
       "      <th></th>\n",
       "      <th>SMILES</th>\n",
       "      <th>InChi</th>\n",
       "      <th>Activity</th>\n",
       "    </tr>\n",
       "  </thead>\n",
       "  <tbody>\n",
       "    <tr>\n",
       "      <th>0</th>\n",
       "      <td>Cc1nc2ccc(N)cc2s1</td>\n",
       "      <td>InChI=1S/C8H8N2S/c1-5-10-7-3-2-6(9)4-8(7)11-5/...</td>\n",
       "      <td>6.22185</td>\n",
       "    </tr>\n",
       "    <tr>\n",
       "      <th>1</th>\n",
       "      <td>Nc1ccc2ncccc2c1</td>\n",
       "      <td>InChI=1S/C9H8N2/c10-8-3-4-9-7(6-8)2-1-5-11-9/h...</td>\n",
       "      <td>4.42091</td>\n",
       "    </tr>\n",
       "    <tr>\n",
       "      <th>2</th>\n",
       "      <td>CC(NC(=O)Nc1nnc(C(F)(F)F)s1)(C(F)(F)F)C(F)(F)F</td>\n",
       "      <td>InChI=1S/C8H5F9N4OS/c1-5(7(12,13)14,8(15,16)17...</td>\n",
       "      <td>5.54683</td>\n",
       "    </tr>\n",
       "    <tr>\n",
       "      <th>3</th>\n",
       "      <td>CCCCc1oc2ccccc2c1C(=O)c1cc(I)c(OCCN(CC)CC)c(I)c1</td>\n",
       "      <td>InChI=1S/C25H29I2NO3/c1-4-7-11-22-23(18-10-8-9...</td>\n",
       "      <td>5.49894</td>\n",
       "    </tr>\n",
       "    <tr>\n",
       "      <th>4</th>\n",
       "      <td>O=[N+]([O-])c1cc([N+](=O)[O-])c(-c2cc[nH]n2)s1</td>\n",
       "      <td>InChI=1S/C7H4N4O4S/c12-10(13)5-3-6(11(14)15)16...</td>\n",
       "      <td>5.50390</td>\n",
       "    </tr>\n",
       "  </tbody>\n",
       "</table>\n",
       "</div>"
      ],
      "text/plain": [
       "                                             SMILES  \\\n",
       "0                                 Cc1nc2ccc(N)cc2s1   \n",
       "1                                   Nc1ccc2ncccc2c1   \n",
       "2    CC(NC(=O)Nc1nnc(C(F)(F)F)s1)(C(F)(F)F)C(F)(F)F   \n",
       "3  CCCCc1oc2ccccc2c1C(=O)c1cc(I)c(OCCN(CC)CC)c(I)c1   \n",
       "4    O=[N+]([O-])c1cc([N+](=O)[O-])c(-c2cc[nH]n2)s1   \n",
       "\n",
       "                                               InChi  Activity  \n",
       "0  InChI=1S/C8H8N2S/c1-5-10-7-3-2-6(9)4-8(7)11-5/...   6.22185  \n",
       "1  InChI=1S/C9H8N2/c10-8-3-4-9-7(6-8)2-1-5-11-9/h...   4.42091  \n",
       "2  InChI=1S/C8H5F9N4OS/c1-5(7(12,13)14,8(15,16)17...   5.54683  \n",
       "3  InChI=1S/C25H29I2NO3/c1-4-7-11-22-23(18-10-8-9...   5.49894  \n",
       "4  InChI=1S/C7H4N4O4S/c12-10(13)5-3-6(11(14)15)16...   5.50390  "
      ]
     },
     "execution_count": 2,
     "metadata": {},
     "output_type": "execute_result"
    }
   ],
   "source": [
    "# Load the CSV file\n",
    "file_path = \"../Data/Mtb_published_regression_AC_Cleaned(in).csv\"  # Replace with your file path\n",
    "data = pd.read_csv(file_path)\n",
    "\n",
    "# Ensure the file has the necessary columns\n",
    "required_columns = {\"SMILES\", \"InChi\", \"Activity\"}\n",
    "if not required_columns.issubset(data.columns):\n",
    "    raise ValueError(f\"The input CSV must contain the following columns: {required_columns}\")\n",
    "data.head()"
   ]
  },
  {
   "cell_type": "markdown",
   "id": "87102194-859d-4a95-b79e-a566ff4750bf",
   "metadata": {},
   "source": [
    "After uploading the data, we convert the SMILES into fingerprints, leveraging the RDKit library. "
   ]
  },
  {
   "cell_type": "code",
   "execution_count": 34,
   "id": "a55eec8f-c8a2-419e-8528-25a42a8b8df4",
   "metadata": {},
   "outputs": [],
   "source": [
    "# Convert SMILES to molecular fingerprints\n",
    "def smiles_to_fingerprint(smiles):\n",
    "    try:\n",
    "        mol = Chem.MolFromSmiles(smiles)\n",
    "        if mol:\n",
    "            fp = AllChem.GetMorganFingerprintAsBitVect(mol, radius=2, nBits=2048)\n",
    "            return np.array(fp)\n",
    "        else:\n",
    "            return None\n",
    "    except Exception as e:\n",
    "        print(f\"Error processing SMILES {smiles}: {e}\")\n",
    "        return None\n",
    "\n",
    "# Generate fingerprints\n",
    "data['fingerprint'] = data['SMILES'].apply(smiles_to_fingerprint)\n",
    "num_molecules_raw = data[\"SMILES\"].size"
   ]
  },
  {
   "cell_type": "markdown",
   "id": "16395624-79f3-4cf7-ae0d-e1b23e70263e",
   "metadata": {},
   "source": [
    "After creating a set of fingerprints, we then remove any invalid molecules. "
   ]
  },
  {
   "cell_type": "code",
   "execution_count": 35,
   "id": "d96a42c4-be57-4857-8fb3-2ef680c23cbd",
   "metadata": {},
   "outputs": [],
   "source": [
    "# Remove rows with invalid SMILES\n",
    "data = data.dropna(subset=['fingerprint'])\n",
    "X = np.array(data['fingerprint'].tolist())\n",
    "y = data['Activity'].values\n",
    "print(f\"Original Dataset has {num_molecules_raw} molecules\")\n",
    "num_fingerprints = data[\"fingerprint\"].size\n",
    "print(f\"{num_molecules_raw - num_fingerprints} molecules were removed\")"
   ]
  },
  {
   "cell_type": "markdown",
   "id": "491b5c85-2f4c-4345-a29d-78dc33330c1a",
   "metadata": {},
   "source": [
    "To check how many molecules were removed, we print the size of the original dataset with the new dataset"
   ]
  },
  {
   "cell_type": "code",
   "execution_count": 36,
   "id": "470a8383-c309-425f-8cf5-b64cb77d512c",
   "metadata": {},
   "outputs": [
    {
     "name": "stdout",
     "output_type": "stream",
     "text": [
      "Original Dataset has 15618 molecules\n",
      "0 molecules were removed\n"
     ]
    }
   ],
   "source": []
  },
  {
   "cell_type": "markdown",
   "id": "854bb762-669d-444c-b781-09be830931e2",
   "metadata": {},
   "source": [
    "## Model\n",
    "\n",
    "The model will split the dataset into 8:1:1 - training:test:validation. "
   ]
  },
  {
   "cell_type": "code",
   "execution_count": 37,
   "id": "cb0a09b9-027f-463f-be1c-0660a1f27f12",
   "metadata": {},
   "outputs": [
    {
     "name": "stdout",
     "output_type": "stream",
     "text": [
      "Training set size: 12494\n",
      "Testing set size: 1562\n",
      "Validation set size: 1562\n"
     ]
    },
    {
     "data": {
      "text/html": [
       "<style>#sk-container-id-3 {color: black;}#sk-container-id-3 pre{padding: 0;}#sk-container-id-3 div.sk-toggleable {background-color: white;}#sk-container-id-3 label.sk-toggleable__label {cursor: pointer;display: block;width: 100%;margin-bottom: 0;padding: 0.3em;box-sizing: border-box;text-align: center;}#sk-container-id-3 label.sk-toggleable__label-arrow:before {content: \"▸\";float: left;margin-right: 0.25em;color: #696969;}#sk-container-id-3 label.sk-toggleable__label-arrow:hover:before {color: black;}#sk-container-id-3 div.sk-estimator:hover label.sk-toggleable__label-arrow:before {color: black;}#sk-container-id-3 div.sk-toggleable__content {max-height: 0;max-width: 0;overflow: hidden;text-align: left;background-color: #f0f8ff;}#sk-container-id-3 div.sk-toggleable__content pre {margin: 0.2em;color: black;border-radius: 0.25em;background-color: #f0f8ff;}#sk-container-id-3 input.sk-toggleable__control:checked~div.sk-toggleable__content {max-height: 200px;max-width: 100%;overflow: auto;}#sk-container-id-3 input.sk-toggleable__control:checked~label.sk-toggleable__label-arrow:before {content: \"▾\";}#sk-container-id-3 div.sk-estimator input.sk-toggleable__control:checked~label.sk-toggleable__label {background-color: #d4ebff;}#sk-container-id-3 div.sk-label input.sk-toggleable__control:checked~label.sk-toggleable__label {background-color: #d4ebff;}#sk-container-id-3 input.sk-hidden--visually {border: 0;clip: rect(1px 1px 1px 1px);clip: rect(1px, 1px, 1px, 1px);height: 1px;margin: -1px;overflow: hidden;padding: 0;position: absolute;width: 1px;}#sk-container-id-3 div.sk-estimator {font-family: monospace;background-color: #f0f8ff;border: 1px dotted black;border-radius: 0.25em;box-sizing: border-box;margin-bottom: 0.5em;}#sk-container-id-3 div.sk-estimator:hover {background-color: #d4ebff;}#sk-container-id-3 div.sk-parallel-item::after {content: \"\";width: 100%;border-bottom: 1px solid gray;flex-grow: 1;}#sk-container-id-3 div.sk-label:hover label.sk-toggleable__label {background-color: #d4ebff;}#sk-container-id-3 div.sk-serial::before {content: \"\";position: absolute;border-left: 1px solid gray;box-sizing: border-box;top: 0;bottom: 0;left: 50%;z-index: 0;}#sk-container-id-3 div.sk-serial {display: flex;flex-direction: column;align-items: center;background-color: white;padding-right: 0.2em;padding-left: 0.2em;position: relative;}#sk-container-id-3 div.sk-item {position: relative;z-index: 1;}#sk-container-id-3 div.sk-parallel {display: flex;align-items: stretch;justify-content: center;background-color: white;position: relative;}#sk-container-id-3 div.sk-item::before, #sk-container-id-3 div.sk-parallel-item::before {content: \"\";position: absolute;border-left: 1px solid gray;box-sizing: border-box;top: 0;bottom: 0;left: 50%;z-index: -1;}#sk-container-id-3 div.sk-parallel-item {display: flex;flex-direction: column;z-index: 1;position: relative;background-color: white;}#sk-container-id-3 div.sk-parallel-item:first-child::after {align-self: flex-end;width: 50%;}#sk-container-id-3 div.sk-parallel-item:last-child::after {align-self: flex-start;width: 50%;}#sk-container-id-3 div.sk-parallel-item:only-child::after {width: 0;}#sk-container-id-3 div.sk-dashed-wrapped {border: 1px dashed gray;margin: 0 0.4em 0.5em 0.4em;box-sizing: border-box;padding-bottom: 0.4em;background-color: white;}#sk-container-id-3 div.sk-label label {font-family: monospace;font-weight: bold;display: inline-block;line-height: 1.2em;}#sk-container-id-3 div.sk-label-container {text-align: center;}#sk-container-id-3 div.sk-container {/* jupyter's `normalize.less` sets `[hidden] { display: none; }` but bootstrap.min.css set `[hidden] { display: none !important; }` so we also need the `!important` here to be able to override the default hidden behavior on the sphinx rendered scikit-learn.org. See: https://github.com/scikit-learn/scikit-learn/issues/21755 */display: inline-block !important;position: relative;}#sk-container-id-3 div.sk-text-repr-fallback {display: none;}</style><div id=\"sk-container-id-3\" class=\"sk-top-container\"><div class=\"sk-text-repr-fallback\"><pre>DecisionTreeRegressor(random_state=42)</pre><b>In a Jupyter environment, please rerun this cell to show the HTML representation or trust the notebook. <br />On GitHub, the HTML representation is unable to render, please try loading this page with nbviewer.org.</b></div><div class=\"sk-container\" hidden><div class=\"sk-item\"><div class=\"sk-estimator sk-toggleable\"><input class=\"sk-toggleable__control sk-hidden--visually\" id=\"sk-estimator-id-3\" type=\"checkbox\" checked><label for=\"sk-estimator-id-3\" class=\"sk-toggleable__label sk-toggleable__label-arrow\">DecisionTreeRegressor</label><div class=\"sk-toggleable__content\"><pre>DecisionTreeRegressor(random_state=42)</pre></div></div></div></div></div>"
      ],
      "text/plain": [
       "DecisionTreeRegressor(random_state=42)"
      ]
     },
     "execution_count": 37,
     "metadata": {},
     "output_type": "execute_result"
    }
   ],
   "source": [
    "# Initial 80-20 split (train and temp)\n",
    "hitch_hiker = 42\n",
    "non_training_size = 0.2\n",
    "validation_size = 0.5\n",
    "X_train, X_temp, y_train, y_temp = train_test_split(X, y, test_size=non_training_size, random_state=hitch_hiker)\n",
    "\n",
    "# Further split temp into 50-50 (test and validation)\n",
    "X_test, X_val, y_test, y_val = train_test_split(X_temp, y_temp, test_size=validation_size, random_state=hitch_hiker)\n",
    "\n",
    "# Check the sizes\n",
    "print(f\"Training set size: {len(X_train)}\")\n",
    "print(f\"Testing set size: {len(X_test)}\")\n",
    "print(f\"Validation set size: {len(X_val)}\")\n",
    "\n",
    "# Build and train the decision tree model\n",
    "model = DecisionTreeRegressor(random_state=hitch_hiker)\n",
    "model.fit(X_train, y_train)"
   ]
  },
  {
   "cell_type": "code",
   "execution_count": 38,
   "id": "695bbe57-ff78-41d1-a0f6-07c891a2e3a0",
   "metadata": {},
   "outputs": [
    {
     "name": "stdout",
     "output_type": "stream",
     "text": [
      "Test Set - Mean Squared Error: 0.5354836919958316, R^2 Score: 0.18800811118622807\n",
      "Validation Set - Mean Squared Error: 0.5264068086123372, R^2 Score: 0.23035154878499686\n"
     ]
    },
    {
     "data": {
      "text/plain": [
       "['decision_tree_model.pkl']"
      ]
     },
     "execution_count": 38,
     "metadata": {},
     "output_type": "execute_result"
    }
   ],
   "source": [
    "# Evaluate on test and validation sets\n",
    "y_test_pred = model.predict(X_test)\n",
    "y_val_pred = model.predict(X_val)\n",
    "\n",
    "mse_test = mean_squared_error(y_test, y_test_pred)\n",
    "r2_test = r2_score(y_test, y_test_pred)\n",
    "mse_val = mean_squared_error(y_val, y_val_pred)\n",
    "r2_val = r2_score(y_val, y_val_pred)\n",
    "\n",
    "print(f\"Test Set - Mean Squared Error: {mse_test}, R^2 Score: {r2_test}\")\n",
    "print(f\"Validation Set - Mean Squared Error: {mse_val}, R^2 Score: {r2_val}\")\n",
    "\n",
    "# Save the model (optional)\n",
    "import joblib\n",
    "joblib.dump(model, \"decision_tree_model.pkl\")"
   ]
  },
  {
   "cell_type": "markdown",
   "id": "ebd59fc3-43c7-4737-9c1e-5572a300042f",
   "metadata": {},
   "source": [
    "From the MSE, we can see that the error is small, a good sign. However the Regression value is very small and doesnt show much clarification. Increasing radius to 3 reduces the R2 score, but increasing the nbits representation of the fingerprints increased it. "
   ]
  },
  {
   "cell_type": "markdown",
   "id": "c62d0c7f-21da-4c41-8386-160d73e41ef7",
   "metadata": {},
   "source": [
    "## Visualise"
   ]
  },
  {
   "cell_type": "code",
   "execution_count": null,
   "id": "9bc8590e-db60-4be8-8171-3c3278117653",
   "metadata": {},
   "outputs": [],
   "source": []
  }
 ],
 "metadata": {
  "kernelspec": {
   "display_name": "Python 3.10.5",
   "language": "python",
   "name": "py3.10.5"
  },
  "language_info": {
   "codemirror_mode": {
    "name": "ipython",
    "version": 3
   },
   "file_extension": ".py",
   "mimetype": "text/x-python",
   "name": "python",
   "nbconvert_exporter": "python",
   "pygments_lexer": "ipython3",
   "version": "3.10.5"
  }
 },
 "nbformat": 4,
 "nbformat_minor": 5
}
