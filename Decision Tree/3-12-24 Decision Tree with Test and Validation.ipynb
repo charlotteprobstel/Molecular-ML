{
 "cells": [
  {
   "cell_type": "markdown",
   "id": "e201e04f-498c-4f88-a9c1-0b6a77644827",
   "metadata": {},
   "source": [
    "###### Decision Tree Model - Morgan\n",
    "\n",
    "This Notebook will do two things: \n",
    "\n",
    "1. Import a CSV file and convert SMILES into Morgan fingerprints\n",
    "2. Apply those fingerprints as input to train a Decision Tree Model\n",
    "\n",
    "Most of the code was sourced from ChatGPT to kick-start the project. Modifications were applied. "
   ]
  },
  {
   "cell_type": "code",
   "execution_count": 1,
   "id": "14e0f5d5-d0f5-46a8-81b0-523d0ee21cda",
   "metadata": {},
   "outputs": [],
   "source": [
    "# Imports \n",
    "import pandas as pd\n",
    "import numpy as np\n",
    "from rdkit import Chem\n",
    "from rdkit.Chem import AllChem\n",
    "from sklearn.model_selection import train_test_split\n",
    "from sklearn.tree import DecisionTreeRegressor\n",
    "from sklearn.metrics import mean_squared_error, r2_score"
   ]
  },
  {
   "cell_type": "markdown",
   "id": "ca0277c3-2b50-40ab-9ebd-ae83931f899e",
   "metadata": {},
   "source": [
    "After importing all the necessary libraries, we upload the CSV file with all the data. This file holds 15,619 molecules in the form of SMILES (text). Two additional columns of data provide, the International Chemical Identifier (InChi) and the acitivity (float) of the molecule. "
   ]
  },
  {
   "cell_type": "markdown",
   "id": "ac907ce3-c495-4538-b9a0-2e170d6c2c99",
   "metadata": {},
   "source": [
    "## Data and Fingerprints"
   ]
  },
  {
   "cell_type": "code",
   "execution_count": 2,
   "id": "6c4342a5-1c6a-4f04-8e84-249b6263cc74",
   "metadata": {},
   "outputs": [],
   "source": [
    "def load_csv(file_path):\n",
    "    \"\"\"Function reads a csv file and returns a Panda DataFrame\"\"\"\n",
    "    \n",
    "    # Load the CSV file\n",
    "    data = pd.read_csv(file_path)\n",
    "\n",
    "    # Ensure the file has the necessary columns\n",
    "    required_columns = {\"SMILES\", \"InChi\", \"Activity\"}\n",
    "    if not required_columns.issubset(data.columns):\n",
    "        raise ValueError(f\"The input CSV must contain the following columns: {required_columns}\")\n",
    "    data.head()\n",
    "    \n",
    "    return data"
   ]
  },
  {
   "cell_type": "markdown",
   "id": "87102194-859d-4a95-b79e-a566ff4750bf",
   "metadata": {},
   "source": [
    "After uploading the data, we convert the SMILES into fingerprints, leveraging the RDKit library. "
   ]
  },
  {
   "cell_type": "code",
   "execution_count": 7,
   "id": "a55eec8f-c8a2-419e-8528-25a42a8b8df4",
   "metadata": {},
   "outputs": [],
   "source": [
    "# Convert SMILES to molecular fingerprints\n",
    "def smiles_to_fingerprint(smiles, radius = 2, nBits = 2048):\n",
    "    try:\n",
    "        mol = Chem.MolFromSmiles(smiles)\n",
    "        if mol:\n",
    "            fp = AllChem.GetMorganFingerprintAsBitVect(mol, radius=radius, nBits=nBits)\n",
    "            return np.array(fp)\n",
    "        else:\n",
    "            return None\n",
    "    except Exception as e:\n",
    "        print(f\"Error processing SMILES {smiles}: {e}\")\n",
    "        return None\n",
    "\n",
    "# Convert Inchi to molecular fingerprints\n",
    "def inchis_to_fingerprint(inchis, radius = 2, nBits = 2048):\n",
    "    try:\n",
    "        mol_inchi = Chem.MolFromInchi(inchis)\n",
    "        if mol:\n",
    "            fp_inchi = AllChem.GetMorganFingerprintAsBitVect(mol, radius=radius, nBits=nBits) \n",
    "            return np.array(fp_inchi)\n",
    "        else:\n",
    "            return None\n",
    "    except Exception as e:\n",
    "        print(f\"Error processing InChis {inchis}: {e}\")\n",
    "        return None"
   ]
  },
  {
   "cell_type": "markdown",
   "id": "16395624-79f3-4cf7-ae0d-e1b23e70263e",
   "metadata": {},
   "source": [
    "After creating a set of fingerprints, we then remove any invalid molecules. "
   ]
  },
  {
   "cell_type": "code",
   "execution_count": 8,
   "id": "d96a42c4-be57-4857-8fb3-2ef680c23cbd",
   "metadata": {},
   "outputs": [],
   "source": [
    "# Remove empty rows\n",
    "def clean_data(data):\n",
    "    \"\"\"Function cleans data (removes negative activities, removes empty cells) and returns X and y\"\"\"\n",
    "\n",
    "    original_size = data[\"SMILES\"].size\n",
    "\n",
    "    # Remove any missing values\n",
    "    data = data.dropna(subset=['SMILES'])\n",
    "    data = data.dropna(subset=['InChi'])\n",
    "    data = data.dropna(subset=['Activity'])\n",
    "    data = data.dropna(subset=['Fingerprint'])\n",
    "\n",
    "    # Define X, y\n",
    "    X = np.array(data['Fingerprint'].tolist())\n",
    "    y = data['Activity'].values\n",
    "\n",
    "    # Check the difference between clean and unclean data\n",
    "    final_size = data[\"SMILES\"].size\n",
    "    print(f\"Original Dataset has {original_size} molecules\")\n",
    "    print(f\"{original_size-final_size} of molecule were removed\")\n",
    "    print(f\"Final Size is {final_size}\")\n",
    "    \n",
    "    return X, y"
   ]
  },
  {
   "cell_type": "markdown",
   "id": "491b5c85-2f4c-4345-a29d-78dc33330c1a",
   "metadata": {},
   "source": [
    "To check how many molecules were removed, we print the size of the original dataset with the new dataset"
   ]
  },
  {
   "cell_type": "markdown",
   "id": "854bb762-669d-444c-b781-09be830931e2",
   "metadata": {},
   "source": [
    "## Model\n",
    "Lets train a simple Decision Tree Regressor. "
   ]
  },
  {
   "cell_type": "code",
   "execution_count": 10,
   "id": "4374c26e-ebc0-4aa6-a6e9-6f406aea8644",
   "metadata": {},
   "outputs": [
    {
     "data": {
      "text/html": [
       "<div>\n",
       "<style scoped>\n",
       "    .dataframe tbody tr th:only-of-type {\n",
       "        vertical-align: middle;\n",
       "    }\n",
       "\n",
       "    .dataframe tbody tr th {\n",
       "        vertical-align: top;\n",
       "    }\n",
       "\n",
       "    .dataframe thead th {\n",
       "        text-align: right;\n",
       "    }\n",
       "</style>\n",
       "<table border=\"1\" class=\"dataframe\">\n",
       "  <thead>\n",
       "    <tr style=\"text-align: right;\">\n",
       "      <th></th>\n",
       "      <th>Activity</th>\n",
       "    </tr>\n",
       "  </thead>\n",
       "  <tbody>\n",
       "    <tr>\n",
       "      <th>count</th>\n",
       "      <td>15618.000000</td>\n",
       "    </tr>\n",
       "    <tr>\n",
       "      <th>mean</th>\n",
       "      <td>5.006235</td>\n",
       "    </tr>\n",
       "    <tr>\n",
       "      <th>std</th>\n",
       "      <td>0.840051</td>\n",
       "    </tr>\n",
       "    <tr>\n",
       "      <th>min</th>\n",
       "      <td>1.872570</td>\n",
       "    </tr>\n",
       "    <tr>\n",
       "      <th>25%</th>\n",
       "      <td>4.428867</td>\n",
       "    </tr>\n",
       "    <tr>\n",
       "      <th>50%</th>\n",
       "      <td>4.936465</td>\n",
       "    </tr>\n",
       "    <tr>\n",
       "      <th>75%</th>\n",
       "      <td>5.508640</td>\n",
       "    </tr>\n",
       "    <tr>\n",
       "      <th>max</th>\n",
       "      <td>10.000000</td>\n",
       "    </tr>\n",
       "  </tbody>\n",
       "</table>\n",
       "</div>"
      ],
      "text/plain": [
       "           Activity\n",
       "count  15618.000000\n",
       "mean       5.006235\n",
       "std        0.840051\n",
       "min        1.872570\n",
       "25%        4.428867\n",
       "50%        4.936465\n",
       "75%        5.508640\n",
       "max       10.000000"
      ]
     },
     "execution_count": 10,
     "metadata": {},
     "output_type": "execute_result"
    }
   ],
   "source": [
    "# Load data\n",
    "data = load_csv(\"../Data/training.csv\")\n",
    "data.head()\n",
    "data.describe()"
   ]
  },
  {
   "cell_type": "code",
   "execution_count": 11,
   "id": "cb0a09b9-027f-463f-be1c-0660a1f27f12",
   "metadata": {},
   "outputs": [
    {
     "name": "stdout",
     "output_type": "stream",
     "text": [
      "Original Dataset has 12494 molecules\n",
      "0 of molecule were removed\n",
      "Final Size is 12494\n",
      "Original Dataset has 1562 molecules\n",
      "0 of molecule were removed\n",
      "Final Size is 1562\n",
      "Original Dataset has 1562 molecules\n",
      "0 of molecule were removed\n",
      "Final Size is 1562\n",
      "\n",
      "Training set size: 12494\n",
      "Testing set size: 1562\n",
      "Validation set size: 1562\n"
     ]
    }
   ],
   "source": [
    "\n",
    "\n",
    "# First split: 80% training, 20% (validation + test)\n",
    "train_data, temp_data = train_test_split(data, test_size=0.2, random_state=42)\n",
    "\n",
    "# Second split: 50% validation, 50% test (from the 20%)\n",
    "val_data, test_data = train_test_split(temp_data, test_size=0.5, random_state=42)\n",
    "\n",
    "# Prep training set\n",
    "train_data['Fingerprint'] = train_data['SMILES'].apply(smiles_to_fingerprint)\n",
    "X_train, y_train = clean_data(train_data)\n",
    "\n",
    "# Prep validation set\n",
    "val_data['Fingerprint'] = val_data['SMILES'].apply(smiles_to_fingerprint)\n",
    "X_val, y_val = clean_data(val_data)\n",
    "\n",
    "# Prep test set\n",
    "test_data['Fingerprint'] = test_data['SMILES'].apply(smiles_to_fingerprint)\n",
    "X_test, y_test = clean_data(test_data)\n",
    "\n",
    "# Check the sizes\n",
    "print(\"\")\n",
    "print(f\"Training set size: {len(X_train)}\")\n",
    "print(f\"Testing set size: {len(X_test)}\")\n",
    "print(f\"Validation set size: {len(X_val)}\")"
   ]
  },
  {
   "cell_type": "code",
   "execution_count": 12,
   "id": "46726a3a-6053-4af9-817b-d79d830f45b4",
   "metadata": {},
   "outputs": [
    {
     "name": "stdout",
     "output_type": "stream",
     "text": [
      "Test Set - Mean Squared Error: 0.5261513274444239, R^2 Score: 0.23072508248931467\n"
     ]
    }
   ],
   "source": [
    "# Build and train the decision tree model\n",
    "model = DecisionTreeRegressor(criterion='squared_error', splitter='best', \n",
    "                              max_depth=None, min_samples_split=2, min_samples_leaf=1, \n",
    "                              min_weight_fraction_leaf=0.0, max_features=None, random_state=None, \n",
    "                              max_leaf_nodes=None, min_impurity_decrease=0.0, ccp_alpha=0.0)\n",
    "model.fit(X_train, y_train)\n",
    "\n",
    "# Predict from the model\n",
    "y_test_pred = model.predict(X_test)\n",
    "\n",
    "# Calulcate MSE, R^2 of the training data\n",
    "mse_test = mean_squared_error(y_test, y_test_pred)\n",
    "r2_test = r2_score(y_test, y_test_pred)\n",
    "print(f\"Test Set - Mean Squared Error: {mse_test}, R^2 Score: {r2_test}\")\n"
   ]
  },
  {
   "cell_type": "markdown",
   "id": "345fc57a-d503-4eaa-b207-85d20cfbc110",
   "metadata": {},
   "source": [
    "## Testing and Validating\n",
    "Compare the test and validation set to the model. "
   ]
  },
  {
   "cell_type": "code",
   "execution_count": 20,
   "id": "695bbe57-ff78-41d1-a0f6-07c891a2e3a0",
   "metadata": {},
   "outputs": [
    {
     "name": "stdout",
     "output_type": "stream",
     "text": [
      "Test Set - Mean Squared Error: 0.5360262138012457, R^2 Score: 0.21628721643950632\n",
      "Validation Set - Mean Squared Error: 0.5262215107557578, R^2 Score: 0.2020530133038475\n"
     ]
    },
    {
     "data": {
      "text/plain": [
       "['decision_tree_model.pkl']"
      ]
     },
     "execution_count": 20,
     "metadata": {},
     "output_type": "execute_result"
    }
   ],
   "source": [
    "# Evaluate on test and validation sets\n",
    "y_test_pred = model.predict(X_test)\n",
    "y_val_pred = model.predict(X_val)\n",
    "\n",
    "mse_test = mean_squared_error(y_test, y_test_pred)\n",
    "r2_test = r2_score(y_test, y_test_pred)\n",
    "mse_val = mean_squared_error(y_val, y_val_pred)\n",
    "r2_val = r2_score(y_val, y_val_pred)\n",
    "\n",
    "print(f\"Test Set - Mean Squared Error: {mse_test}, R^2 Score: {r2_test}\")\n",
    "print(f\"Validation Set - Mean Squared Error: {mse_val}, R^2 Score: {r2_val}\")\n",
    "\n",
    "# Save the model (optional)\n",
    "import joblib\n",
    "joblib.dump(model, \"decision_tree_model.pkl\")"
   ]
  },
  {
   "cell_type": "markdown",
   "id": "ebd59fc3-43c7-4737-9c1e-5572a300042f",
   "metadata": {},
   "source": [
    "From the MSE, we can see that the error is small, a good sign. However the Regression value is very small and doesnt show much clarification. Increasing radius to 3 reduces the R2 score, but increasing the nbits representation of the fingerprints increased it. "
   ]
  },
  {
   "cell_type": "code",
   "execution_count": null,
   "id": "9bc8590e-db60-4be8-8171-3c3278117653",
   "metadata": {},
   "outputs": [],
   "source": []
  }
 ],
 "metadata": {
  "kernelspec": {
   "display_name": "Python 3.10.5",
   "language": "python",
   "name": "py3.10.5"
  },
  "language_info": {
   "codemirror_mode": {
    "name": "ipython",
    "version": 3
   },
   "file_extension": ".py",
   "mimetype": "text/x-python",
   "name": "python",
   "nbconvert_exporter": "python",
   "pygments_lexer": "ipython3",
   "version": "3.10.11"
  }
 },
 "nbformat": 4,
 "nbformat_minor": 5
}
