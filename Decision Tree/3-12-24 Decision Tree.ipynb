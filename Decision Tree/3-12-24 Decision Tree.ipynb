{
 "cells": [
  {
   "cell_type": "markdown",
   "id": "e201e04f-498c-4f88-a9c1-0b6a77644827",
   "metadata": {},
   "source": [
    "# Decision Tree Model\n",
    "\n",
    "This Notebook will do two things: \n",
    "\n",
    "1. Import a CSV file and convert SMILES into fingerprints\n",
    "2. Apply those fingerprints as input to train a Decision Tree Model\n",
    "\n",
    "Most of the code was sourced from ChatGPT to kick-start the project. Modifications were applied. "
   ]
  },
  {
   "cell_type": "code",
   "execution_count": 1,
   "id": "14e0f5d5-d0f5-46a8-81b0-523d0ee21cda",
   "metadata": {},
   "outputs": [],
   "source": [
    "# Imports \n",
    "import pandas as pd\n",
    "import numpy as np\n",
    "from rdkit import Chem\n",
    "from rdkit.Chem import AllChem\n",
    "from sklearn.model_selection import train_test_split\n",
    "from sklearn.tree import DecisionTreeRegressor\n",
    "from sklearn.metrics import mean_squared_error, r2_score"
   ]
  },
  {
   "cell_type": "markdown",
   "id": "ca0277c3-2b50-40ab-9ebd-ae83931f899e",
   "metadata": {},
   "source": [
    "After importing all the necessary libraries, we upload the CSV file with all the data. This file holds 15,619 molecules in the form of SMILES (text). Two additional columns of data provide the InCHI and the acitivity (float) of the molecule. "
   ]
  },
  {
   "cell_type": "markdown",
   "id": "ac907ce3-c495-4538-b9a0-2e170d6c2c99",
   "metadata": {},
   "source": [
    "## Data and SMILES -> Fingerprints"
   ]
  },
  {
   "cell_type": "code",
   "execution_count": 2,
   "id": "6c4342a5-1c6a-4f04-8e84-249b6263cc74",
   "metadata": {},
   "outputs": [],
   "source": [
    "# Load the CSV file\n",
    "file_path = \"../Data/Mtb_published_regression_AC_Cleaned(in).csv\"  # Replace with your file path\n",
    "data = pd.read_csv(file_path)\n",
    "\n",
    "# Ensure the file has the necessary columns\n",
    "required_columns = {\"SMILES\", \"InChi\", \"Activity\"}\n",
    "if not required_columns.issubset(data.columns):\n",
    "    raise ValueError(f\"The input CSV must contain the following columns: {required_columns}\")"
   ]
  },
  {
   "cell_type": "markdown",
   "id": "87102194-859d-4a95-b79e-a566ff4750bf",
   "metadata": {},
   "source": [
    "After uploading the data, we convert the SMILES into fingerprints, leveraging the RDKit library. "
   ]
  },
  {
   "cell_type": "code",
   "execution_count": 3,
   "id": "a55eec8f-c8a2-419e-8528-25a42a8b8df4",
   "metadata": {},
   "outputs": [],
   "source": [
    "# Convert SMILES to molecular fingerprints\n",
    "def smiles_to_fingerprint(smiles):\n",
    "    try:\n",
    "        mol = Chem.MolFromSmiles(smiles)\n",
    "        if mol:\n",
    "            fp = AllChem.GetMorganFingerprintAsBitVect(mol, radius=2, nBits=1024)\n",
    "            return np.array(fp)\n",
    "        else:\n",
    "            return None\n",
    "    except Exception as e:\n",
    "        print(f\"Error processing SMILES {smiles}: {e}\")\n",
    "        return None\n",
    "\n",
    "# Generate fingerprints\n",
    "data['fingerprint'] = data['SMILES'].apply(smiles_to_fingerprint)\n",
    "num_SMILES_raw = data[\"SMILES\"].size"
   ]
  },
  {
   "cell_type": "markdown",
   "id": "16395624-79f3-4cf7-ae0d-e1b23e70263e",
   "metadata": {},
   "source": [
    "After creating a set of fingerprints, we then remove any invalid molecules. "
   ]
  },
  {
   "cell_type": "code",
   "execution_count": 4,
   "id": "d96a42c4-be57-4857-8fb3-2ef680c23cbd",
   "metadata": {},
   "outputs": [],
   "source": [
    "# Remove rows with invalid SMILES\n",
    "data = data.dropna(subset=['fingerprint'])\n",
    "X = np.array(data['fingerprint'].tolist())\n",
    "y = data['Activity'].values"
   ]
  },
  {
   "cell_type": "markdown",
   "id": "491b5c85-2f4c-4345-a29d-78dc33330c1a",
   "metadata": {},
   "source": [
    "To check how many molecules were removed, we print the size of the original dataset with the new dataset"
   ]
  },
  {
   "cell_type": "code",
   "execution_count": 5,
   "id": "470a8383-c309-425f-8cf5-b64cb77d512c",
   "metadata": {},
   "outputs": [
    {
     "name": "stdout",
     "output_type": "stream",
     "text": [
      "Original Dataset has 15618 molecules\n",
      "0 molecules were removed\n"
     ]
    }
   ],
   "source": [
    "print(f\"Original Dataset has {num_SMILES_raw} molecules\")\n",
    "num_fingerprints = data[\"fingerprint\"].size\n",
    "print(f\"{num_SMILES_raw - num_fingerprints} molecules were removed\")"
   ]
  },
  {
   "cell_type": "markdown",
   "id": "854bb762-669d-444c-b781-09be830931e2",
   "metadata": {},
   "source": [
    "## Model\n",
    "\n",
    "The model will split the dataset into 8:1:1 - training:test:validation. "
   ]
  },
  {
   "cell_type": "code",
   "execution_count": 6,
   "id": "cb0a09b9-027f-463f-be1c-0660a1f27f12",
   "metadata": {},
   "outputs": [
    {
     "name": "stdout",
     "output_type": "stream",
     "text": [
      "Training set size: 12494\n",
      "Testing set size: 1562\n",
      "Validation set size: 1562\n"
     ]
    },
    {
     "data": {
      "text/html": [
       "<style>#sk-container-id-1 {color: black;}#sk-container-id-1 pre{padding: 0;}#sk-container-id-1 div.sk-toggleable {background-color: white;}#sk-container-id-1 label.sk-toggleable__label {cursor: pointer;display: block;width: 100%;margin-bottom: 0;padding: 0.3em;box-sizing: border-box;text-align: center;}#sk-container-id-1 label.sk-toggleable__label-arrow:before {content: \"▸\";float: left;margin-right: 0.25em;color: #696969;}#sk-container-id-1 label.sk-toggleable__label-arrow:hover:before {color: black;}#sk-container-id-1 div.sk-estimator:hover label.sk-toggleable__label-arrow:before {color: black;}#sk-container-id-1 div.sk-toggleable__content {max-height: 0;max-width: 0;overflow: hidden;text-align: left;background-color: #f0f8ff;}#sk-container-id-1 div.sk-toggleable__content pre {margin: 0.2em;color: black;border-radius: 0.25em;background-color: #f0f8ff;}#sk-container-id-1 input.sk-toggleable__control:checked~div.sk-toggleable__content {max-height: 200px;max-width: 100%;overflow: auto;}#sk-container-id-1 input.sk-toggleable__control:checked~label.sk-toggleable__label-arrow:before {content: \"▾\";}#sk-container-id-1 div.sk-estimator input.sk-toggleable__control:checked~label.sk-toggleable__label {background-color: #d4ebff;}#sk-container-id-1 div.sk-label input.sk-toggleable__control:checked~label.sk-toggleable__label {background-color: #d4ebff;}#sk-container-id-1 input.sk-hidden--visually {border: 0;clip: rect(1px 1px 1px 1px);clip: rect(1px, 1px, 1px, 1px);height: 1px;margin: -1px;overflow: hidden;padding: 0;position: absolute;width: 1px;}#sk-container-id-1 div.sk-estimator {font-family: monospace;background-color: #f0f8ff;border: 1px dotted black;border-radius: 0.25em;box-sizing: border-box;margin-bottom: 0.5em;}#sk-container-id-1 div.sk-estimator:hover {background-color: #d4ebff;}#sk-container-id-1 div.sk-parallel-item::after {content: \"\";width: 100%;border-bottom: 1px solid gray;flex-grow: 1;}#sk-container-id-1 div.sk-label:hover label.sk-toggleable__label {background-color: #d4ebff;}#sk-container-id-1 div.sk-serial::before {content: \"\";position: absolute;border-left: 1px solid gray;box-sizing: border-box;top: 0;bottom: 0;left: 50%;z-index: 0;}#sk-container-id-1 div.sk-serial {display: flex;flex-direction: column;align-items: center;background-color: white;padding-right: 0.2em;padding-left: 0.2em;position: relative;}#sk-container-id-1 div.sk-item {position: relative;z-index: 1;}#sk-container-id-1 div.sk-parallel {display: flex;align-items: stretch;justify-content: center;background-color: white;position: relative;}#sk-container-id-1 div.sk-item::before, #sk-container-id-1 div.sk-parallel-item::before {content: \"\";position: absolute;border-left: 1px solid gray;box-sizing: border-box;top: 0;bottom: 0;left: 50%;z-index: -1;}#sk-container-id-1 div.sk-parallel-item {display: flex;flex-direction: column;z-index: 1;position: relative;background-color: white;}#sk-container-id-1 div.sk-parallel-item:first-child::after {align-self: flex-end;width: 50%;}#sk-container-id-1 div.sk-parallel-item:last-child::after {align-self: flex-start;width: 50%;}#sk-container-id-1 div.sk-parallel-item:only-child::after {width: 0;}#sk-container-id-1 div.sk-dashed-wrapped {border: 1px dashed gray;margin: 0 0.4em 0.5em 0.4em;box-sizing: border-box;padding-bottom: 0.4em;background-color: white;}#sk-container-id-1 div.sk-label label {font-family: monospace;font-weight: bold;display: inline-block;line-height: 1.2em;}#sk-container-id-1 div.sk-label-container {text-align: center;}#sk-container-id-1 div.sk-container {/* jupyter's `normalize.less` sets `[hidden] { display: none; }` but bootstrap.min.css set `[hidden] { display: none !important; }` so we also need the `!important` here to be able to override the default hidden behavior on the sphinx rendered scikit-learn.org. See: https://github.com/scikit-learn/scikit-learn/issues/21755 */display: inline-block !important;position: relative;}#sk-container-id-1 div.sk-text-repr-fallback {display: none;}</style><div id=\"sk-container-id-1\" class=\"sk-top-container\"><div class=\"sk-text-repr-fallback\"><pre>DecisionTreeRegressor(random_state=42)</pre><b>In a Jupyter environment, please rerun this cell to show the HTML representation or trust the notebook. <br />On GitHub, the HTML representation is unable to render, please try loading this page with nbviewer.org.</b></div><div class=\"sk-container\" hidden><div class=\"sk-item\"><div class=\"sk-estimator sk-toggleable\"><input class=\"sk-toggleable__control sk-hidden--visually\" id=\"sk-estimator-id-1\" type=\"checkbox\" checked><label for=\"sk-estimator-id-1\" class=\"sk-toggleable__label sk-toggleable__label-arrow\">DecisionTreeRegressor</label><div class=\"sk-toggleable__content\"><pre>DecisionTreeRegressor(random_state=42)</pre></div></div></div></div></div>"
      ],
      "text/plain": [
       "DecisionTreeRegressor(random_state=42)"
      ]
     },
     "execution_count": 6,
     "metadata": {},
     "output_type": "execute_result"
    }
   ],
   "source": [
    "# Initial 80-20 split (train and temp)\n",
    "hitch_hiker = 42\n",
    "non_training_size = 0.2\n",
    "validation_size = 0.5\n",
    "X_train, X_temp, y_train, y_temp = train_test_split(X, y, test_size=non_training_size, random_state=hitch_hiker)\n",
    "\n",
    "# Further split temp into 50-50 (test and validation)\n",
    "X_test, X_val, y_test, y_val = train_test_split(X_temp, y_temp, test_size=validation_size, random_state=hitch_hiker)\n",
    "\n",
    "# Check the sizes\n",
    "print(f\"Training set size: {len(X_train)}\")\n",
    "print(f\"Testing set size: {len(X_test)}\")\n",
    "print(f\"Validation set size: {len(X_val)}\")\n",
    "\n",
    "# Build and train the decision tree model\n",
    "model = DecisionTreeRegressor(random_state=hitch_hiker)\n",
    "model.fit(X_train, y_train)"
   ]
  },
  {
   "cell_type": "code",
   "execution_count": 7,
   "id": "695bbe57-ff78-41d1-a0f6-07c891a2e3a0",
   "metadata": {},
   "outputs": [
    {
     "name": "stdout",
     "output_type": "stream",
     "text": [
      "Test Set - Mean Squared Error: 0.5828544096592759, R^2 Score: 0.1161765333343604\n",
      "Validation Set - Mean Squared Error: 0.6034630754251734, R^2 Score: 0.11768918302789977\n"
     ]
    },
    {
     "data": {
      "text/plain": [
       "['decision_tree_model.pkl']"
      ]
     },
     "execution_count": 7,
     "metadata": {},
     "output_type": "execute_result"
    }
   ],
   "source": [
    "# Evaluate on test and validation sets\n",
    "y_test_pred = model.predict(X_test)\n",
    "y_val_pred = model.predict(X_val)\n",
    "\n",
    "mse_test = mean_squared_error(y_test, y_test_pred)\n",
    "r2_test = r2_score(y_test, y_test_pred)\n",
    "mse_val = mean_squared_error(y_val, y_val_pred)\n",
    "r2_val = r2_score(y_val, y_val_pred)\n",
    "\n",
    "print(f\"Test Set - Mean Squared Error: {mse_test}, R^2 Score: {r2_test}\")\n",
    "print(f\"Validation Set - Mean Squared Error: {mse_val}, R^2 Score: {r2_val}\")\n",
    "\n",
    "# Save the model (optional)\n",
    "import joblib\n",
    "joblib.dump(model, \"decision_tree_model.pkl\")"
   ]
  },
  {
   "cell_type": "markdown",
   "id": "ebd59fc3-43c7-4737-9c1e-5572a300042f",
   "metadata": {},
   "source": [
    "From the MSE, we can see that the error is small, a good sign. However the Regression value is very small and doesnt show much clarification. "
   ]
  },
  {
   "cell_type": "markdown",
   "id": "c62d0c7f-21da-4c41-8386-160d73e41ef7",
   "metadata": {},
   "source": [
    "## Visualise"
   ]
  },
  {
   "cell_type": "code",
   "execution_count": 8,
   "id": "bc2bcf26-eabf-4df2-a2a4-32ec8f8a9113",
   "metadata": {},
   "outputs": [
    {
     "ename": "ModuleNotFoundError",
     "evalue": "No module named 'graphviz'",
     "output_type": "error",
     "traceback": [
      "\u001b[0;31m---------------------------------------------------------------------------\u001b[0m",
      "\u001b[0;31mModuleNotFoundError\u001b[0m                       Traceback (most recent call last)",
      "Cell \u001b[0;32mIn[8], line 2\u001b[0m\n\u001b[1;32m      1\u001b[0m \u001b[38;5;28;01mfrom\u001b[39;00m \u001b[38;5;21;01msklearn\u001b[39;00m\u001b[38;5;21;01m.\u001b[39;00m\u001b[38;5;21;01mtree\u001b[39;00m \u001b[38;5;28;01mimport\u001b[39;00m export_graphviz\n\u001b[0;32m----> 2\u001b[0m \u001b[38;5;28;01mimport\u001b[39;00m \u001b[38;5;21;01mgraphviz\u001b[39;00m\n\u001b[1;32m      4\u001b[0m \u001b[38;5;66;03m# Export the decision tree to DOT format\u001b[39;00m\n\u001b[1;32m      5\u001b[0m dot_data \u001b[38;5;241m=\u001b[39m export_graphviz(\n\u001b[1;32m      6\u001b[0m     model, \n\u001b[1;32m      7\u001b[0m     out_file\u001b[38;5;241m=\u001b[39m\u001b[38;5;28;01mNone\u001b[39;00m, \n\u001b[0;32m   (...)\u001b[0m\n\u001b[1;32m     11\u001b[0m     special_characters\u001b[38;5;241m=\u001b[39m\u001b[38;5;28;01mTrue\u001b[39;00m\n\u001b[1;32m     12\u001b[0m )\n",
      "\u001b[0;31mModuleNotFoundError\u001b[0m: No module named 'graphviz'"
     ]
    }
   ],
   "source": [
    "from sklearn.tree import export_graphviz\n",
    "import graphviz\n",
    "\n",
    "# Export the decision tree to DOT format\n",
    "dot_data = export_graphviz(\n",
    "    model, \n",
    "    out_file=None, \n",
    "    feature_names=None,     # Replace with feature names\n",
    "    filled=True, \n",
    "    rounded=True, \n",
    "    special_characters=True\n",
    ")\n",
    "\n",
    "# Render the DOT data to an image\n",
    "graph = graphviz.Source(dot_data)\n",
    "graph.render(\"decision_tree\")  # Saves as decision_tree.pdf\n",
    "graph.view()                   # Opens the visualization in a viewer"
   ]
  },
  {
   "cell_type": "code",
   "execution_count": null,
   "id": "9bc8590e-db60-4be8-8171-3c3278117653",
   "metadata": {},
   "outputs": [],
   "source": []
  }
 ],
 "metadata": {
  "kernelspec": {
   "display_name": "Python 3.10.5",
   "language": "python",
   "name": "py3.10.5"
  },
  "language_info": {
   "codemirror_mode": {
    "name": "ipython",
    "version": 3
   },
   "file_extension": ".py",
   "mimetype": "text/x-python",
   "name": "python",
   "nbconvert_exporter": "python",
   "pygments_lexer": "ipython3",
   "version": "3.10.5"
  }
 },
 "nbformat": 4,
 "nbformat_minor": 5
}
