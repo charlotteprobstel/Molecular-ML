{
 "cells": [
  {
   "cell_type": "markdown",
   "id": "e201e04f-498c-4f88-a9c1-0b6a77644827",
   "metadata": {},
   "source": [
    "# Decision Tree Classifier Model - Morgan Fingerprints\n",
    "\n",
    "This Notebook will do two things: \n",
    "\n",
    "1. Import a CSV file and convert SMILES into Morgan fingerprints\n",
    "2. Apply those fingerprints as input to train a Decision Tree Classifier\n",
    "\n",
    "Most of the code was sourced from ChatGPT to kick-start the project. Modifications were applied. "
   ]
  },
  {
   "cell_type": "code",
   "execution_count": 18,
   "id": "14e0f5d5-d0f5-46a8-81b0-523d0ee21cda",
   "metadata": {},
   "outputs": [],
   "source": [
    "# Imports \n",
    "import pandas as pd\n",
    "import numpy as np\n",
    "from rdkit import Chem\n",
    "from rdkit.Chem import AllChem\n",
    "from sklearn.model_selection import train_test_split\n",
    "from sklearn.tree import DecisionTreeClassifier\n",
    "from sklearn.ensemble import RandomForestClassifier\n",
    "from sklearn.metrics import (\n",
    "    precision_score, recall_score, accuracy_score, f1_score, roc_auc_score, confusion_matrix, matthews_corrcoef\n",
    ")\n",
    "from sklearn.metrics import roc_curve, roc_auc_score\n",
    "import matplotlib.pyplot as plt\n",
    "\n",
    "from datetime import datetime"
   ]
  },
  {
   "cell_type": "markdown",
   "id": "ca0277c3-2b50-40ab-9ebd-ae83931f899e",
   "metadata": {},
   "source": [
    "After importing all the necessary libraries, we upload the CSV file with all the data. This file holds 15,619 molecules in the form of SMILES (text). Two additional columns of data provide, the International Chemical Identifier (InChi) and the acitivity (float) of the molecule. "
   ]
  },
  {
   "cell_type": "markdown",
   "id": "ac907ce3-c495-4538-b9a0-2e170d6c2c99",
   "metadata": {},
   "source": [
    "## Data and Fingerprints"
   ]
  },
  {
   "cell_type": "code",
   "execution_count": 2,
   "id": "6c4342a5-1c6a-4f04-8e84-249b6263cc74",
   "metadata": {},
   "outputs": [],
   "source": [
    "def load_csv(file_path):\n",
    "    \"\"\"Function reads a csv file and returns a Panda DataFrame\"\"\"\n",
    "    \n",
    "    # Load the CSV file\n",
    "    data = pd.read_csv(file_path)\n",
    "\n",
    "    # Ensure the file has the necessary columns\n",
    "    required_columns = {\"SMILES\", \"InChi\", \"Activity\"}\n",
    "    if not required_columns.issubset(data.columns):\n",
    "        raise ValueError(f\"The input CSV must contain the following columns: {required_columns}\")\n",
    "    data.head()\n",
    "    \n",
    "    return data"
   ]
  },
  {
   "cell_type": "markdown",
   "id": "87102194-859d-4a95-b79e-a566ff4750bf",
   "metadata": {},
   "source": [
    "After uploading the data, we convert the SMILES into fingerprints, leveraging the RDKit library. "
   ]
  },
  {
   "cell_type": "code",
   "execution_count": 3,
   "id": "a55eec8f-c8a2-419e-8528-25a42a8b8df4",
   "metadata": {},
   "outputs": [],
   "source": [
    "# Convert SMILES to molecular fingerprints\n",
    "def smiles_to_fingerprint(smiles, radius = 2, nBits = 2048):\n",
    "    try:\n",
    "        mol = Chem.MolFromSmiles(smiles)\n",
    "        if mol:\n",
    "            fp = AllChem.GetMorganFingerprintAsBitVect(mol, radius=radius, nBits=nBits)\n",
    "            return np.array(fp)\n",
    "        else:\n",
    "            return None\n",
    "    except Exception as e:\n",
    "        print(f\"Error processing SMILES {smiles}: {e}\")\n",
    "        return None\n",
    "\n",
    "# Convert Inchi to molecular fingerprints\n",
    "def inchis_to_fingerprint(inchis, radius = 2, nBits = 2048):\n",
    "    try:\n",
    "        mol_inchi = Chem.MolFromInchi(inchis)\n",
    "        if mol:\n",
    "            fp_inchi = AllChem.GetMorganFingerprintAsBitVect(mol, radius=radius, nBits=nBits) \n",
    "            return np.array(fp_inchi)\n",
    "        else:\n",
    "            return None\n",
    "    except Exception as e:\n",
    "        print(f\"Error processing InChis {inchis}: {e}\")\n",
    "        return None"
   ]
  },
  {
   "cell_type": "markdown",
   "id": "16395624-79f3-4cf7-ae0d-e1b23e70263e",
   "metadata": {},
   "source": [
    "After creating a set of fingerprints, we then remove any invalid molecules. "
   ]
  },
  {
   "cell_type": "code",
   "execution_count": 4,
   "id": "d96a42c4-be57-4857-8fb3-2ef680c23cbd",
   "metadata": {},
   "outputs": [],
   "source": [
    "# Remove empty rows\n",
    "def clean_data(data):\n",
    "    \"\"\"Function cleans data (removes negative activities, removes empty cells) and returns X and y\"\"\"\n",
    "\n",
    "    original_size = data[\"SMILES\"].size\n",
    "\n",
    "    # Remove any missing values\n",
    "    data = data.dropna(subset=['SMILES'])\n",
    "    data = data.dropna(subset=['InChi'])\n",
    "    data = data.dropna(subset=['Activity'])\n",
    "    data = data.dropna(subset=['ActivityB'])\n",
    "    data = data.dropna(subset=['Fingerprint'])\n",
    "\n",
    "    # Check the difference between clean and unclean data\n",
    "    final_size = data[\"SMILES\"].size\n",
    "    removed_molecules = original_size-final_size\n",
    "\n",
    "    # Print values for transparency\n",
    "    print(\"\")\n",
    "    print(f\"Original Dataset has {original_size} molecules\")\n",
    "    print(f\"{removed_molecules} of molecule were removed\")\n",
    "    print(f\"Final Size is {final_size}\")\n",
    "    \n",
    "    return data, removed_molecules\n",
    "\n",
    "def extract_data(data): \n",
    "    \"\"\" Function returns Fingerprints and Activity \"\"\"\n",
    "\n",
    "    # Define X, y\n",
    "    X = np.array(data['Fingerprint'].tolist())\n",
    "    y = data['ActivityB'].values\n",
    "\n",
    "    return X, y"
   ]
  },
  {
   "cell_type": "code",
   "execution_count": 5,
   "id": "86f08c4a-ebe9-49c1-a5ae-825ea6c77c6e",
   "metadata": {},
   "outputs": [],
   "source": [
    "def binarise_data(data):\n",
    "\n",
    "    \"\"\"Function applies a binary classifier to the Activities column\"\"\"\n",
    "    # Binarise \n",
    "    # Calculate mean and standard deviation\n",
    "    mean_activity = data[\"Activity\"].mean()\n",
    "    std_activity = data[\"Activity\"].std()\n",
    "\n",
    "    # Convert \"activities\" column into binary values\n",
    "    data[\"ActivityB\"] = data[\"Activity\"].apply(\n",
    "        lambda x: 0 if x > (mean_activity - std_activity) else 1)\n",
    "    \n",
    "    return data\n",
    "    "
   ]
  },
  {
   "cell_type": "markdown",
   "id": "854bb762-669d-444c-b781-09be830931e2",
   "metadata": {},
   "source": [
    "## Loading and preparing data\n",
    "Lets train a simple Decision Tree Regressor. "
   ]
  },
  {
   "cell_type": "code",
   "execution_count": 6,
   "id": "4374c26e-ebc0-4aa6-a6e9-6f406aea8644",
   "metadata": {},
   "outputs": [
    {
     "data": {
      "text/html": [
       "<div>\n",
       "<style scoped>\n",
       "    .dataframe tbody tr th:only-of-type {\n",
       "        vertical-align: middle;\n",
       "    }\n",
       "\n",
       "    .dataframe tbody tr th {\n",
       "        vertical-align: top;\n",
       "    }\n",
       "\n",
       "    .dataframe thead th {\n",
       "        text-align: right;\n",
       "    }\n",
       "</style>\n",
       "<table border=\"1\" class=\"dataframe\">\n",
       "  <thead>\n",
       "    <tr style=\"text-align: right;\">\n",
       "      <th></th>\n",
       "      <th>SMILES</th>\n",
       "      <th>InChi</th>\n",
       "      <th>Activity</th>\n",
       "    </tr>\n",
       "  </thead>\n",
       "  <tbody>\n",
       "    <tr>\n",
       "      <th>0</th>\n",
       "      <td>Cc1nc2ccc(N)cc2s1</td>\n",
       "      <td>InChI=1S/C8H8N2S/c1-5-10-7-3-2-6(9)4-8(7)11-5/...</td>\n",
       "      <td>6.22185</td>\n",
       "    </tr>\n",
       "    <tr>\n",
       "      <th>1</th>\n",
       "      <td>Nc1ccc2ncccc2c1</td>\n",
       "      <td>InChI=1S/C9H8N2/c10-8-3-4-9-7(6-8)2-1-5-11-9/h...</td>\n",
       "      <td>4.42091</td>\n",
       "    </tr>\n",
       "    <tr>\n",
       "      <th>2</th>\n",
       "      <td>CC(NC(=O)Nc1nnc(C(F)(F)F)s1)(C(F)(F)F)C(F)(F)F</td>\n",
       "      <td>InChI=1S/C8H5F9N4OS/c1-5(7(12,13)14,8(15,16)17...</td>\n",
       "      <td>5.54683</td>\n",
       "    </tr>\n",
       "    <tr>\n",
       "      <th>3</th>\n",
       "      <td>CCCCc1oc2ccccc2c1C(=O)c1cc(I)c(OCCN(CC)CC)c(I)c1</td>\n",
       "      <td>InChI=1S/C25H29I2NO3/c1-4-7-11-22-23(18-10-8-9...</td>\n",
       "      <td>5.49894</td>\n",
       "    </tr>\n",
       "    <tr>\n",
       "      <th>4</th>\n",
       "      <td>O=[N+]([O-])c1cc([N+](=O)[O-])c(-c2cc[nH]n2)s1</td>\n",
       "      <td>InChI=1S/C7H4N4O4S/c12-10(13)5-3-6(11(14)15)16...</td>\n",
       "      <td>5.50390</td>\n",
       "    </tr>\n",
       "  </tbody>\n",
       "</table>\n",
       "</div>"
      ],
      "text/plain": [
       "                                             SMILES  \\\n",
       "0                                 Cc1nc2ccc(N)cc2s1   \n",
       "1                                   Nc1ccc2ncccc2c1   \n",
       "2    CC(NC(=O)Nc1nnc(C(F)(F)F)s1)(C(F)(F)F)C(F)(F)F   \n",
       "3  CCCCc1oc2ccccc2c1C(=O)c1cc(I)c(OCCN(CC)CC)c(I)c1   \n",
       "4    O=[N+]([O-])c1cc([N+](=O)[O-])c(-c2cc[nH]n2)s1   \n",
       "\n",
       "                                               InChi  Activity  \n",
       "0  InChI=1S/C8H8N2S/c1-5-10-7-3-2-6(9)4-8(7)11-5/...   6.22185  \n",
       "1  InChI=1S/C9H8N2/c10-8-3-4-9-7(6-8)2-1-5-11-9/h...   4.42091  \n",
       "2  InChI=1S/C8H5F9N4OS/c1-5(7(12,13)14,8(15,16)17...   5.54683  \n",
       "3  InChI=1S/C25H29I2NO3/c1-4-7-11-22-23(18-10-8-9...   5.49894  \n",
       "4  InChI=1S/C7H4N4O4S/c12-10(13)5-3-6(11(14)15)16...   5.50390  "
      ]
     },
     "execution_count": 6,
     "metadata": {},
     "output_type": "execute_result"
    }
   ],
   "source": [
    "# Load data\n",
    "data = load_csv(\"../Data/training.csv\")\n",
    "testA = load_csv(\"../Data/test1.csv\")\n",
    "testB = load_csv(\"../Data/test2.csv\")\n",
    "data.head()"
   ]
  },
  {
   "cell_type": "code",
   "execution_count": 7,
   "id": "a0826314-224d-4557-afeb-a107b8f8f186",
   "metadata": {},
   "outputs": [
    {
     "data": {
      "text/html": [
       "<div>\n",
       "<style scoped>\n",
       "    .dataframe tbody tr th:only-of-type {\n",
       "        vertical-align: middle;\n",
       "    }\n",
       "\n",
       "    .dataframe tbody tr th {\n",
       "        vertical-align: top;\n",
       "    }\n",
       "\n",
       "    .dataframe thead th {\n",
       "        text-align: right;\n",
       "    }\n",
       "</style>\n",
       "<table border=\"1\" class=\"dataframe\">\n",
       "  <thead>\n",
       "    <tr style=\"text-align: right;\">\n",
       "      <th></th>\n",
       "      <th>Activity</th>\n",
       "    </tr>\n",
       "  </thead>\n",
       "  <tbody>\n",
       "    <tr>\n",
       "      <th>count</th>\n",
       "      <td>15618.000000</td>\n",
       "    </tr>\n",
       "    <tr>\n",
       "      <th>mean</th>\n",
       "      <td>5.006235</td>\n",
       "    </tr>\n",
       "    <tr>\n",
       "      <th>std</th>\n",
       "      <td>0.840051</td>\n",
       "    </tr>\n",
       "    <tr>\n",
       "      <th>min</th>\n",
       "      <td>1.872570</td>\n",
       "    </tr>\n",
       "    <tr>\n",
       "      <th>25%</th>\n",
       "      <td>4.428867</td>\n",
       "    </tr>\n",
       "    <tr>\n",
       "      <th>50%</th>\n",
       "      <td>4.936465</td>\n",
       "    </tr>\n",
       "    <tr>\n",
       "      <th>75%</th>\n",
       "      <td>5.508640</td>\n",
       "    </tr>\n",
       "    <tr>\n",
       "      <th>max</th>\n",
       "      <td>10.000000</td>\n",
       "    </tr>\n",
       "  </tbody>\n",
       "</table>\n",
       "</div>"
      ],
      "text/plain": [
       "           Activity\n",
       "count  15618.000000\n",
       "mean       5.006235\n",
       "std        0.840051\n",
       "min        1.872570\n",
       "25%        4.428867\n",
       "50%        4.936465\n",
       "75%        5.508640\n",
       "max       10.000000"
      ]
     },
     "execution_count": 7,
     "metadata": {},
     "output_type": "execute_result"
    }
   ],
   "source": [
    "data.describe()"
   ]
  },
  {
   "cell_type": "markdown",
   "id": "262274d4-9573-4436-b980-812310853e78",
   "metadata": {},
   "source": [
    "## Clean and Split"
   ]
  },
  {
   "cell_type": "code",
   "execution_count": 8,
   "id": "cb0a09b9-027f-463f-be1c-0660a1f27f12",
   "metadata": {},
   "outputs": [
    {
     "name": "stdout",
     "output_type": "stream",
     "text": [
      "\n",
      "Original Dataset has 15618 molecules\n",
      "0 of molecule were removed\n",
      "Final Size is 15618\n"
     ]
    }
   ],
   "source": [
    "# Training Data\n",
    "data = binarise_data(data)\n",
    "data['Fingerprint'] = data['SMILES'].apply(smiles_to_fingerprint)\n",
    "data, mols_train_removed = clean_data(data)"
   ]
  },
  {
   "cell_type": "code",
   "execution_count": 9,
   "id": "2ba2f859-fc3f-4ed3-913a-a1014fa75217",
   "metadata": {},
   "outputs": [
    {
     "name": "stdout",
     "output_type": "stream",
     "text": [
      "\n",
      "Training set size: 12494\n",
      "Testing set size: 3124\n"
     ]
    }
   ],
   "source": [
    "# Split data\n",
    "# First split: 80% training, 20% (validation + test)\n",
    "train_data, test_data = train_test_split(data, test_size=0.2, random_state=42)\n",
    "\n",
    "# Prep training, test inputs and outputs \n",
    "X_train, y_train = extract_data(train_data)\n",
    "X_test, y_test = extract_data(test_data)\n",
    "\n",
    "# Check sizes\n",
    "print(\"\")\n",
    "print(f\"Training set size: {len(X_train)}\")\n",
    "print(f\"Testing set size: {len(X_test)}\")"
   ]
  },
  {
   "cell_type": "markdown",
   "id": "9d9d4986-0655-44a7-a481-89ae56e729ff",
   "metadata": {},
   "source": [
    "## Running the model"
   ]
  },
  {
   "cell_type": "code",
   "execution_count": 10,
   "id": "e16998b7-ef74-46ff-bdb9-9c5eaf2fb076",
   "metadata": {},
   "outputs": [
    {
     "data": {
      "text/html": [
       "<style>#sk-container-id-1 {color: black;}#sk-container-id-1 pre{padding: 0;}#sk-container-id-1 div.sk-toggleable {background-color: white;}#sk-container-id-1 label.sk-toggleable__label {cursor: pointer;display: block;width: 100%;margin-bottom: 0;padding: 0.3em;box-sizing: border-box;text-align: center;}#sk-container-id-1 label.sk-toggleable__label-arrow:before {content: \"▸\";float: left;margin-right: 0.25em;color: #696969;}#sk-container-id-1 label.sk-toggleable__label-arrow:hover:before {color: black;}#sk-container-id-1 div.sk-estimator:hover label.sk-toggleable__label-arrow:before {color: black;}#sk-container-id-1 div.sk-toggleable__content {max-height: 0;max-width: 0;overflow: hidden;text-align: left;background-color: #f0f8ff;}#sk-container-id-1 div.sk-toggleable__content pre {margin: 0.2em;color: black;border-radius: 0.25em;background-color: #f0f8ff;}#sk-container-id-1 input.sk-toggleable__control:checked~div.sk-toggleable__content {max-height: 200px;max-width: 100%;overflow: auto;}#sk-container-id-1 input.sk-toggleable__control:checked~label.sk-toggleable__label-arrow:before {content: \"▾\";}#sk-container-id-1 div.sk-estimator input.sk-toggleable__control:checked~label.sk-toggleable__label {background-color: #d4ebff;}#sk-container-id-1 div.sk-label input.sk-toggleable__control:checked~label.sk-toggleable__label {background-color: #d4ebff;}#sk-container-id-1 input.sk-hidden--visually {border: 0;clip: rect(1px 1px 1px 1px);clip: rect(1px, 1px, 1px, 1px);height: 1px;margin: -1px;overflow: hidden;padding: 0;position: absolute;width: 1px;}#sk-container-id-1 div.sk-estimator {font-family: monospace;background-color: #f0f8ff;border: 1px dotted black;border-radius: 0.25em;box-sizing: border-box;margin-bottom: 0.5em;}#sk-container-id-1 div.sk-estimator:hover {background-color: #d4ebff;}#sk-container-id-1 div.sk-parallel-item::after {content: \"\";width: 100%;border-bottom: 1px solid gray;flex-grow: 1;}#sk-container-id-1 div.sk-label:hover label.sk-toggleable__label {background-color: #d4ebff;}#sk-container-id-1 div.sk-serial::before {content: \"\";position: absolute;border-left: 1px solid gray;box-sizing: border-box;top: 0;bottom: 0;left: 50%;z-index: 0;}#sk-container-id-1 div.sk-serial {display: flex;flex-direction: column;align-items: center;background-color: white;padding-right: 0.2em;padding-left: 0.2em;position: relative;}#sk-container-id-1 div.sk-item {position: relative;z-index: 1;}#sk-container-id-1 div.sk-parallel {display: flex;align-items: stretch;justify-content: center;background-color: white;position: relative;}#sk-container-id-1 div.sk-item::before, #sk-container-id-1 div.sk-parallel-item::before {content: \"\";position: absolute;border-left: 1px solid gray;box-sizing: border-box;top: 0;bottom: 0;left: 50%;z-index: -1;}#sk-container-id-1 div.sk-parallel-item {display: flex;flex-direction: column;z-index: 1;position: relative;background-color: white;}#sk-container-id-1 div.sk-parallel-item:first-child::after {align-self: flex-end;width: 50%;}#sk-container-id-1 div.sk-parallel-item:last-child::after {align-self: flex-start;width: 50%;}#sk-container-id-1 div.sk-parallel-item:only-child::after {width: 0;}#sk-container-id-1 div.sk-dashed-wrapped {border: 1px dashed gray;margin: 0 0.4em 0.5em 0.4em;box-sizing: border-box;padding-bottom: 0.4em;background-color: white;}#sk-container-id-1 div.sk-label label {font-family: monospace;font-weight: bold;display: inline-block;line-height: 1.2em;}#sk-container-id-1 div.sk-label-container {text-align: center;}#sk-container-id-1 div.sk-container {/* jupyter's `normalize.less` sets `[hidden] { display: none; }` but bootstrap.min.css set `[hidden] { display: none !important; }` so we also need the `!important` here to be able to override the default hidden behavior on the sphinx rendered scikit-learn.org. See: https://github.com/scikit-learn/scikit-learn/issues/21755 */display: inline-block !important;position: relative;}#sk-container-id-1 div.sk-text-repr-fallback {display: none;}</style><div id=\"sk-container-id-1\" class=\"sk-top-container\"><div class=\"sk-text-repr-fallback\"><pre>RandomForestClassifier(max_features=5, n_estimators=500)</pre><b>In a Jupyter environment, please rerun this cell to show the HTML representation or trust the notebook. <br />On GitHub, the HTML representation is unable to render, please try loading this page with nbviewer.org.</b></div><div class=\"sk-container\" hidden><div class=\"sk-item\"><div class=\"sk-estimator sk-toggleable\"><input class=\"sk-toggleable__control sk-hidden--visually\" id=\"sk-estimator-id-1\" type=\"checkbox\" checked><label for=\"sk-estimator-id-1\" class=\"sk-toggleable__label sk-toggleable__label-arrow\">RandomForestClassifier</label><div class=\"sk-toggleable__content\"><pre>RandomForestClassifier(max_features=5, n_estimators=500)</pre></div></div></div></div></div>"
      ],
      "text/plain": [
       "RandomForestClassifier(max_features=5, n_estimators=500)"
      ]
     },
     "execution_count": 10,
     "metadata": {},
     "output_type": "execute_result"
    }
   ],
   "source": [
    "# Initialize and train the Decision Tree Classifier\n",
    "clf = RandomForestClassifier(max_features=5, n_estimators=500)\n",
    "clf.fit(X_train, y_train)"
   ]
  },
  {
   "cell_type": "code",
   "execution_count": 11,
   "id": "c1f8be88-f66a-49d9-9e45-f325ca71df8c",
   "metadata": {},
   "outputs": [],
   "source": [
    "# Make predictions\n",
    "y_pred = clf.predict(X_test)\n",
    "y_pred_proba = clf.predict_proba(X_test)[:, 1]  # Probabilities for AUC"
   ]
  },
  {
   "cell_type": "code",
   "execution_count": 12,
   "id": "ab1e5f79-757b-4fca-849a-a497e60ef2d9",
   "metadata": {},
   "outputs": [
    {
     "data": {
      "text/plain": [
       "207"
      ]
     },
     "execution_count": 12,
     "metadata": {},
     "output_type": "execute_result"
    }
   ],
   "source": [
    "sum(y_pred)"
   ]
  },
  {
   "cell_type": "code",
   "execution_count": 13,
   "id": "46726a3a-6053-4af9-817b-d79d830f45b4",
   "metadata": {},
   "outputs": [
    {
     "name": "stdout",
     "output_type": "stream",
     "text": [
      "Evaluation Metrics:\n",
      "Precision: 0.797\n",
      "Recall (Sensitivity): 0.343\n",
      "Specificity: 0.984\n",
      "Accuracy: 0.885\n",
      "F1-score: 0.480\n",
      "AUC: 0.861\n",
      "MCC: 0.475\n"
     ]
    }
   ],
   "source": [
    "# Calculate performance metrics\n",
    "# 1. Precision\n",
    "precision = precision_score(y_test, y_pred)\n",
    "\n",
    "# 2. Recall (Sensitivity or True Positive Rate)\n",
    "recall = recall_score(y_test, y_pred)\n",
    "\n",
    "# 3. Specificity (True Negative Rate)\n",
    "true_neg, false_pos, false_neg, true_pos = confusion_matrix(y_test, y_pred).ravel()\n",
    "specificity = true_neg / (true_neg + false_pos)\n",
    "\n",
    "# 4. Accuracy\n",
    "accuracy = accuracy_score(y_test, y_pred)\n",
    "\n",
    "# 5. F1-score\n",
    "f1 = f1_score(y_test, y_pred)\n",
    "\n",
    "# 6. AUC (Area Under the Curve)\n",
    "auc = roc_auc_score(y_test, y_pred_proba)\n",
    "\n",
    "# Calculate FPR, TPR, and thresholds\n",
    "fpr, tpr, thresholds = roc_curve(y_test, y_pred_proba)\n",
    "\n",
    "# 7. MCC (Matthews Correlation Coefficient)\n",
    "mcc = matthews_corrcoef(y_test, y_pred)\n",
    "\n",
    "# Print metrics\n",
    "print(\"Evaluation Metrics:\")\n",
    "print(f\"Precision: {precision:.3f}\")\n",
    "print(f\"Recall (Sensitivity): {recall:.3f}\")\n",
    "print(f\"Specificity: {specificity:.3f}\")\n",
    "print(f\"Accuracy: {accuracy:.3f}\")\n",
    "print(f\"F1-score: {f1:.3f}\")\n",
    "print(f\"AUC: {auc:.3f}\")\n",
    "print(f\"MCC: {mcc:.3f}\")"
   ]
  },
  {
   "cell_type": "code",
   "execution_count": 14,
   "id": "99de3286-80cc-40a4-a3f7-e633f0764425",
   "metadata": {},
   "outputs": [
    {
     "name": "stdout",
     "output_type": "stream",
     "text": [
      "Before training\n",
      "Inactive molecules : [13222] out of 12494\n",
      "Active molecules : [2396] out of 12494\n",
      "Active : 19.18 percent\n",
      "\n",
      "After training\n",
      "Inactive molecules : 2917 out of 3124\n",
      "Active molecules : 207 out of 3124\n",
      "Active : 6.63 percent\n"
     ]
    }
   ],
   "source": [
    "# Understanding the balance of the split before training \n",
    "counts = data['ActivityB'].value_counts()\n",
    "print(\"Before training\")\n",
    "print(f\"Inactive molecules : {counts.values[0:1]} out of {len(X_train)}\")\n",
    "print(f\"Active molecules : {counts.values[1:2]} out of {len(X_train)}\")\n",
    "active_perc = counts.values[1:2] / len(X_train) * 100\n",
    "print(f\"Active : {active_perc[0]:.2f} percent\")\n",
    "\n",
    "print(\"\")\n",
    "print(\"After training\")\n",
    "print(f\"Inactive molecules : {y_pred.size - y_pred.sum()} out of {y_pred.size}\")\n",
    "print(f\"Active molecules : {y_pred.sum()} out of {y_pred.size}\")\n",
    "active_perc = y_pred.sum() / y_pred.size * 100\n",
    "print(f\"Active : {active_perc:.2f} percent\")"
   ]
  },
  {
   "cell_type": "markdown",
   "id": "99174ebe-978d-4cb9-bf88-de2953a05c89",
   "metadata": {},
   "source": [
    "## Validation"
   ]
  },
  {
   "cell_type": "code",
   "execution_count": 24,
   "id": "e5f7e2e8-4612-40d3-9d71-ffbf04aa3b86",
   "metadata": {},
   "outputs": [
    {
     "data": {
      "image/png": "[encoded data removed]",
      "text/plain": [
       "<Figure size 800x600 with 1 Axes>"
      ]
     },
     "metadata": {},
     "output_type": "display_data"
    }
   ],
   "source": [
    "# Calculate FPR, TPR, and thresholds\n",
    "fpr, tpr, _ = roc_curve(y_test, y_pred_proba)\n",
    "\n",
    "# Plot the ROC curve\n",
    "plt.figure(figsize=(8, 6))\n",
    "plt.plot(fpr, tpr, marker = \".\", color='blue', label=f'AUC = {auc:.3f}')\n",
    "plt.plot([0, 1], [0, 1], color='red', linestyle='--', label='Random Classifier (AUC = 0.5)')\n",
    "plt.title('ROC Curve')\n",
    "plt.xlabel('False Positive Rate (FPR)')\n",
    "plt.ylabel('True Positive Rate (TPR)')\n",
    "plt.legend(loc='lower right')\n",
    "plt.grid(alpha=0.3)\n",
    "\n",
    "# Save file\n",
    "import time\n",
    "file_name = \"plots/\" + str(time.time()) + \".png\"\n",
    "plt.savefig(file_name)\n",
    "\n",
    "plt.show()\n"
   ]
  },
  {
   "cell_type": "markdown",
   "id": "345fc57a-d503-4eaa-b207-85d20cfbc110",
   "metadata": {},
   "source": [
    "## Testing\n",
    "Compare the test and validation set to the model. "
   ]
  },
  {
   "cell_type": "code",
   "execution_count": 29,
   "id": "e08443cf-8ca3-49cb-9b83-ef88d8e2af05",
   "metadata": {},
   "outputs": [
    {
     "name": "stdout",
     "output_type": "stream",
     "text": [
      "\n",
      "Original Dataset has 258 molecules\n",
      "0 of molecule were removed\n",
      "Final Size is 258\n"
     ]
    }
   ],
   "source": [
    "# Calling Test Set B\n",
    "test = binarise_data(testA)\n",
    "test['Fingerprint'] = test['SMILES'].apply(smiles_to_fingerprint)\n",
    "test, mols_test_removed = clean_data(test)"
   ]
  },
  {
   "cell_type": "code",
   "execution_count": 30,
   "id": "56c88d6e-b962-4583-8617-3222bb55b58f",
   "metadata": {},
   "outputs": [],
   "source": [
    "# Make predictions\n",
    "X_test, y_test = extract_data(test)\n",
    "y_pred = clf.predict(X_test)\n",
    "y_pred_proba = clf.predict_proba(X_test)[:, 1]  # Probabilities for AUC"
   ]
  },
  {
   "cell_type": "code",
   "execution_count": 31,
   "id": "fda62242-e08f-4b64-b24e-9296f19bc816",
   "metadata": {},
   "outputs": [
    {
     "name": "stdout",
     "output_type": "stream",
     "text": [
      "Evaluation Metrics:\n",
      "Precision: 1.000\n",
      "Recall (Sensitivity): 0.026\n",
      "Specificity: 1.000\n",
      "Accuracy: 0.857\n",
      "F1-score: 0.051\n",
      "AUC: 0.578\n",
      "MCC: 0.150\n"
     ]
    }
   ],
   "source": [
    "# Calculate performance metrics\n",
    "# 1. Precision\n",
    "precision = precision_score(y_test, y_pred)\n",
    "\n",
    "# 2. Recall (Sensitivity or True Positive Rate)\n",
    "recall = recall_score(y_test, y_pred)\n",
    "\n",
    "# 3. Specificity (True Negative Rate)\n",
    "true_neg, false_pos, false_neg, true_pos = confusion_matrix(y_test, y_pred).ravel()\n",
    "specificity = true_neg / (true_neg + false_pos)\n",
    "\n",
    "# 4. Accuracy\n",
    "accuracy = accuracy_score(y_test, y_pred)\n",
    "\n",
    "# 5. F1-score\n",
    "f1 = f1_score(y_test, y_pred)\n",
    "\n",
    "# 6. AUC (Area Under the Curve)\n",
    "auc = roc_auc_score(y_test, y_pred_proba)\n",
    "\n",
    "# Calculate FPR, TPR, and thresholds\n",
    "fpr, tpr, thresholds = roc_curve(y_test, y_pred_proba)\n",
    "\n",
    "# 7. MCC (Matthews Correlation Coefficient)\n",
    "mcc = matthews_corrcoef(y_test, y_pred)\n",
    "\n",
    "# Print metrics\n",
    "print(\"Evaluation Metrics:\")\n",
    "print(f\"Precision: {precision:.3f}\")\n",
    "print(f\"Recall (Sensitivity): {recall:.3f}\")\n",
    "print(f\"Specificity: {specificity:.3f}\")\n",
    "print(f\"Accuracy: {accuracy:.3f}\")\n",
    "print(f\"F1-score: {f1:.3f}\")\n",
    "print(f\"AUC: {auc:.3f}\")\n",
    "print(f\"MCC: {mcc:.3f}\")"
   ]
  },
  {
   "cell_type": "code",
   "execution_count": 32,
   "id": "b3a29390-e5f3-408d-8dfa-a77b861e4772",
   "metadata": {},
   "outputs": [
    {
     "name": "stdout",
     "output_type": "stream",
     "text": [
      "Before training\n",
      "Inactive molecules : [13222] out of 12494\n",
      "Active molecules : [2396] out of 12494\n",
      "Active : 19.18 percent\n",
      "\n",
      "After training\n",
      "Inactive molecules : 257 out of 258\n",
      "Active molecules : 1 out of 258\n",
      "Active : 0.39 percent\n"
     ]
    }
   ],
   "source": [
    "# Understanding the balance of the split before training \n",
    "counts = data['ActivityB'].value_counts()\n",
    "print(\"Before training\")\n",
    "print(f\"Inactive molecules : {counts.values[0:1]} out of {len(X_train)}\")\n",
    "print(f\"Active molecules : {counts.values[1:2]} out of {len(X_train)}\")\n",
    "active_perc = counts.values[1:2] / len(X_train) * 100\n",
    "print(f\"Active : {active_perc[0]:.2f} percent\")\n",
    "\n",
    "print(\"\")\n",
    "print(\"After training\")\n",
    "print(f\"Inactive molecules : {y_pred.size - y_pred.sum()} out of {y_pred.size}\")\n",
    "print(f\"Active molecules : {y_pred.sum()} out of {y_pred.size}\")\n",
    "active_perc = y_pred.sum() / y_pred.size * 100\n",
    "print(f\"Active : {active_perc:.2f} percent\")"
   ]
  },
  {
   "cell_type": "code",
   "execution_count": 34,
   "id": "d9507e4f-0faf-4e00-b717-cabe8c834a06",
   "metadata": {},
   "outputs": [
    {
     "data": {
      "image/png": "[encoded data removed]",
      "text/plain": [
       "<Figure size 800x600 with 1 Axes>"
      ]
     },
     "metadata": {},
     "output_type": "display_data"
    }
   ],
   "source": [
    "# Calculate FPR, TPR, and thresholds\n",
    "fpr, tpr, _ = roc_curve(y_test, y_pred_proba)\n",
    "\n",
    "# Plot the ROC curve\n",
    "plt.figure(figsize=(8, 6))\n",
    "plt.plot(fpr, tpr, marker = \".\", color='blue', label=f'AUC = {auc:.3f}')\n",
    "plt.plot([0, 1], [0, 1], color='red', linestyle='--', label='Random Classifier (AUC = 0.5)')\n",
    "plt.title('ROC Curve')\n",
    "plt.xlabel('False Positive Rate (FPR)')\n",
    "plt.ylabel('True Positive Rate (TPR)')\n",
    "plt.legend(loc='lower right')\n",
    "plt.grid(alpha=0.3)\n",
    "\n",
    "# Save file\n",
    "file_name = \"plots/\" + str(time.time()) + \".png\"\n",
    "plt.savefig(file_name)\n",
    "\n",
    "plt.show()"
   ]
  },
  {
   "cell_type": "code",
   "execution_count": null,
   "id": "695bbe57-ff78-41d1-a0f6-07c891a2e3a0",
   "metadata": {},
   "outputs": [],
   "source": [
    "# Save the model (optional)\n",
    "import joblib\n",
    "joblib.dump(model, \"decision_tree_model.pkl\")"
   ]
  },
  {
   "cell_type": "markdown",
   "id": "ebd59fc3-43c7-4737-9c1e-5572a300042f",
   "metadata": {},
   "source": [
    "From the MSE, we can see that the error is small, a good sign. However the Regression value is very small and doesnt show much clarification. Increasing radius to 3 reduces the R2 score, but increasing the nbits representation of the fingerprints increased it. "
   ]
  },
  {
   "cell_type": "code",
   "execution_count": null,
   "id": "9bc8590e-db60-4be8-8171-3c3278117653",
   "metadata": {},
   "outputs": [],
   "source": []
  }
 ],
 "metadata": {
  "kernelspec": {
   "display_name": "Python 3.10.5",
   "language": "python",
   "name": "py3.10.5"
  },
  "language_info": {
   "codemirror_mode": {
    "name": "ipython",
    "version": 3
   },
   "file_extension": ".py",
   "mimetype": "text/x-python",
   "name": "python",
   "nbconvert_exporter": "python",
   "pygments_lexer": "ipython3",
   "version": "3.10.11"
  }
 },
 "nbformat": 4,
 "nbformat_minor": 5
}
